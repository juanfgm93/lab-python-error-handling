{
 "cells": [
  {
   "cell_type": "markdown",
   "id": "25d7736c-ba17-4aff-b6bb-66eba20fbf4e",
   "metadata": {},
   "source": [
    "# Lab | Error Handling"
   ]
  },
  {
   "cell_type": "markdown",
   "id": "bc99b386-7508-47a0-bcdb-d969deaf6c8b",
   "metadata": {},
   "source": [
    "## Exercise: Error Handling for Managing Customer Orders\n",
    "\n",
    "The implementation of your code for managing customer orders assumes that the user will always enter a valid input. \n",
    "\n",
    "For example, we could modify the `initialize_inventory` function to include error handling.\n",
    "   - If the user enters an invalid quantity (e.g., a negative value or a non-numeric value), display an error message and ask them to re-enter the quantity for that product.\n",
    "   - Use a try-except block to handle the error and continue prompting the user until a valid quantity is entered.\n",
    "\n",
    "```python\n",
    "# Step 1: Define the function for initializing the inventory with error handling\n",
    "def initialize_inventory(products):\n",
    "    inventory = {}\n",
    "    for product in products:\n",
    "        valid_quantity = False\n",
    "        while not valid_quantity:\n",
    "            try:\n",
    "                quantity = int(input(f\"Enter the quantity of {product}s available: \"))\n",
    "                if quantity < 0:\n",
    "                    raise ValueError(\"Invalid quantity! Please enter a non-negative value.\")\n",
    "                valid_quantity = True\n",
    "            except ValueError as error:\n",
    "                print(f\"Error: {error}\")\n",
    "        inventory[product] = quantity\n",
    "    return inventory\n",
    "\n",
    "# Or, in another way:\n",
    "\n",
    "def initialize_inventory(products):\n",
    "    inventory = {}\n",
    "    for product in products:\n",
    "        valid_input = False\n",
    "        while not valid_input:\n",
    "            try:\n",
    "                quantity = int(input(f\"Enter the quantity of {product}s available: \"))\n",
    "                if quantity >= 0:\n",
    "                    inventory[product] = quantity\n",
    "                    valid_input = True\n",
    "                else:\n",
    "                    print(\"Quantity cannot be negative. Please enter a valid quantity.\")\n",
    "            except ValueError:\n",
    "                print(\"Invalid input. Please enter a valid quantity.\")\n",
    "    return inventory\n",
    "```\n",
    "\n",
    "Let's enhance your code by implementing error handling to handle invalid inputs.\n",
    "\n",
    "Follow the steps below to complete the exercise:\n",
    "\n",
    "2. Modify the `calculate_total_price` function to include error handling.\n",
    "   - If the user enters an invalid price (e.g., a negative value or a non-numeric value), display an error message and ask them to re-enter the price for that product.\n",
    "   - Use a try-except block to handle the error and continue prompting the user until a valid price is entered.\n",
    "\n",
    "3. Modify the `get_customer_orders` function to include error handling.\n",
    "   - If the user enters an invalid number of orders (e.g., a negative value or a non-numeric value), display an error message and ask them to re-enter the number of orders.\n",
    "   - If the user enters an invalid product name (e.g., a product name that is not in the inventory), or that doesn't have stock available, display an error message and ask them to re-enter the product name. *Hint: you will need to pass inventory as a parameter*\n",
    "   - Use a try-except block to handle the error and continue prompting the user until a valid product name is entered.\n",
    "\n",
    "4. Test your code by running the program and deliberately entering invalid quantities and product names. Make sure the error handling mechanism works as expected.\n"
   ]
  },
  {
   "cell_type": "code",
   "execution_count": 1,
   "id": "d70fc56e",
   "metadata": {},
   "outputs": [],
   "source": [
    "# Step 1: Define the function for initializing the inventory with error handling\n",
    "def initialize_inventory(products):\n",
    "    inventory = {}\n",
    "    for product in products:\n",
    "        valid_quantity = False\n",
    "        while not valid_quantity:\n",
    "            try:\n",
    "                quantity = int(input(f\"Enter the quantity of {product}s available: \"))\n",
    "                if quantity < 0:\n",
    "                    raise ValueError(\"Invalid quantity! Please enter a non-negative value.\")\n",
    "                valid_quantity = True\n",
    "            except ValueError as error:\n",
    "                print(f\"Error: {error}\")\n",
    "        inventory[product] = quantity\n",
    "    return inventory\n",
    "\n",
    "# Or, in another way:\n",
    "\n",
    "def initialize_inventory_2(products):\n",
    "    inventory = {}\n",
    "    for product in products:\n",
    "        valid_input = False\n",
    "        while not valid_input:\n",
    "            try:\n",
    "                quantity = int(input(f\"Enter the quantity of {product}s available: \"))\n",
    "                if quantity >= 0:\n",
    "                    inventory[product] = quantity\n",
    "                    valid_input = True\n",
    "                else:\n",
    "                    print(\"Quantity cannot be negative. Please enter a valid quantity.\")\n",
    "            except ValueError:\n",
    "                print(\"Invalid input. Please enter a valid quantity.\")\n",
    "    return inventory"
   ]
  },
  {
   "cell_type": "code",
   "execution_count": 41,
   "id": "c418b8dd",
   "metadata": {},
   "outputs": [],
   "source": [
    "products = ['t-shirt', 'mug', 'hat', 'book', 'keychain']\n",
    "inventory = initialize_inventory(products)"
   ]
  },
  {
   "cell_type": "code",
   "execution_count": 46,
   "id": "6e070f77",
   "metadata": {},
   "outputs": [
    {
     "name": "stdout",
     "output_type": "stream",
     "text": [
      "Total price is: 5\n"
     ]
    }
   ],
   "source": [
    "#2. Modify the `calculate_total_price` function to include error handling.\n",
    "#   - If the user enters an invalid price (e.g., a negative value or a non-numeric value), display an error message and ask them to re-enter \n",
    "#     the price for that product.\n",
    "#   - Use a try-except block to handle the error and continue prompting the user until a valid price is entered.\n",
    "\n",
    "def total_price():\n",
    "    valid_price = False\n",
    "    while not valid_price:\n",
    "        try:\n",
    "            prices = {product:int(input(f'Enter the price for {product}'))  for product in customer_orders}\n",
    "            for price in prices.items():\n",
    "                if price[1] < 0:\n",
    "                    raise ValueError(f'Invalid price: {price}! Please enter a non-negative value.')\n",
    "            valid_price = True\n",
    "            total = sum(prices.values())\n",
    "        except ValueError as error:\n",
    "            print(f\"Error: {error}\")\n",
    "    return total\n",
    "\n",
    "total_price_products = total_price()\n",
    "print(f'Total price is: {total_price_products}')\n"
   ]
  },
  {
   "cell_type": "code",
   "execution_count": null,
   "id": "4e13f4f7",
   "metadata": {},
   "outputs": [],
   "source": [
    "# 3. Modify the `get_customer_orders` function to include error handling.\n",
    "#   - If the user enters an invalid number of orders (e.g., a negative value or a non-numeric value), display an error message and ask them to \n",
    "#     re-enter the number of orders.\n",
    "#   - If the user enters an invalid product name (e.g., a product name that is not in the inventory), or that doesn't have stock available, \n",
    "#     display an error message and ask them to re-enter the product name. *Hint: you will need to pass inventory as a parameter*\n",
    "#   - Use a try-except block to handle the error and continue prompting the user until a valid product name is entered."
   ]
  },
  {
   "cell_type": "code",
   "execution_count": 44,
   "id": "39a25d18",
   "metadata": {},
   "outputs": [
    {
     "name": "stdout",
     "output_type": "stream",
     "text": [
      "No stock available for mug.\n",
      "Invalid product name: t-short. Please enter a valid product.\n",
      "Products ordered by the customer: {'t-shirt'}\n"
     ]
    }
   ],
   "source": [
    "def get_customer_orders(inventory):\n",
    "    while True:\n",
    "        yes_no_input = input('Do you want to order something? Answer yes/no').strip()\n",
    "\n",
    "        if yes_no_input.lower() == 'yes':\n",
    "            valid_number_input = False\n",
    "            while not valid_number_input:\n",
    "                try:\n",
    "                    number_orders = int(input('Enter the number of orders: ').strip())\n",
    "                    if number_orders < 0:\n",
    "                        raise ValueError('Invalid input! Please enter a non-negative value.')\n",
    "                    valid_number_input = True\n",
    "                except ValueError as error:\n",
    "                    print(f'Error: {error}')\n",
    "                \n",
    "            products_wanted = {product_wanted:input('Enter the product ordered by the customer:').strip() for product_wanted in range (number_orders)}\n",
    "            for product in products_wanted.items():\n",
    "                if product[1] not in inventory:\n",
    "                    print(f'Invalid product name: {product[1]}. Please enter a valid product.')\n",
    "                elif inventory[product[1]] == 0:\n",
    "                    print(f'No stock available for {product[1]}.')\n",
    "                else:\n",
    "                    return products_wanted\n",
    "        elif yes_no_input.lower() == 'no':\n",
    "            break\n",
    "        else:\n",
    "            print('Enter a valid input')\n",
    "\n",
    "customer_orders = set(get_customer_orders(inventory).values())\n",
    "print(f'Products ordered by the customer: {customer_orders}')\n"
   ]
  },
  {
   "cell_type": "code",
   "execution_count": 47,
   "id": "258e0f39",
   "metadata": {},
   "outputs": [
    {
     "name": "stdout",
     "output_type": "stream",
     "text": [
      "No stock available for mug.\n",
      "Invalid product name: t-short. Please enter a valid product.\n",
      "Products ordered by the customer: {'t-shirt'}\n",
      "Error: Invalid price: ('t-shirt', -1)! Please enter a non-negative value.\n",
      "Total price is: 5\n"
     ]
    }
   ],
   "source": [
    "# 4. Test your code by running the program and deliberately entering invalid quantities and product names. Make sure the error handling mechanism \n",
    "# works as expected.\n",
    "\n",
    "products = ['t-shirt', 'mug', 'hat', 'book', 'keychain']\n",
    "inventory = initialize_inventory(products)\n",
    "customer_orders = set(get_customer_orders(inventory).values())\n",
    "print(f'Products ordered by the customer: {customer_orders}')\n",
    "total_price_products = total_price()\n",
    "print(f'Total price is: {total_price_products}')\n"
   ]
  }
 ],
 "metadata": {
  "kernelspec": {
   "display_name": "Python 3 (ipykernel)",
   "language": "python",
   "name": "python3"
  },
  "language_info": {
   "codemirror_mode": {
    "name": "ipython",
    "version": 3
   },
   "file_extension": ".py",
   "mimetype": "text/x-python",
   "name": "python",
   "nbconvert_exporter": "python",
   "pygments_lexer": "ipython3",
   "version": "3.11.5"
  }
 },
 "nbformat": 4,
 "nbformat_minor": 5
}
